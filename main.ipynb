{
 "cells": [
  {
   "cell_type": "markdown",
   "metadata": {},
   "source": [
    "**IMPORTING BASIC LIBRARIES**"
   ]
  },
  {
   "cell_type": "code",
   "execution_count": 33,
   "metadata": {},
   "outputs": [],
   "source": [
    "import pandas as pd\n",
    "import numpy as np\n",
    "import warnings\n",
    "warnings.filterwarnings(\"ignore\")"
   ]
  },
  {
   "cell_type": "markdown",
   "metadata": {},
   "source": [
    "**READING THE DATASET**"
   ]
  },
  {
   "cell_type": "code",
   "execution_count": 34,
   "metadata": {},
   "outputs": [],
   "source": [
    "df=pd.read_csv(\"data/CTG.csv\")\n"
   ]
  },
  {
   "cell_type": "markdown",
   "metadata": {},
   "source": [
    "**CLEANING THE DATA AND PREPARING INPUT AND OUTPUT FIELDS**"
   ]
  },
  {
   "cell_type": "code",
   "execution_count": 35,
   "metadata": {},
   "outputs": [],
   "source": [
    "df=df.drop([\"FileName\",\"Date\",\"SegFile\",\"b\",\"e\"],axis=1)\n",
    "df=df.dropna()\n",
    "df.isnull().sum()\n",
    "X=df[['LBE', 'LB', 'AC', 'FM', 'UC', 'DL',\n",
    "       'DS', 'DP', 'DR']]\n",
    "Y=df[[\"NSP\"]]"
   ]
  },
  {
   "cell_type": "markdown",
   "metadata": {},
   "source": [
    "**PERFORMING THE SCALING**"
   ]
  },
  {
   "cell_type": "code",
   "execution_count": 36,
   "metadata": {},
   "outputs": [],
   "source": [
    "from sklearn.preprocessing import StandardScaler, MinMaxScaler\n",
    "Scaler=StandardScaler()\n",
    "X=Scaler.fit_transform(X)"
   ]
  },
  {
   "cell_type": "markdown",
   "metadata": {},
   "source": [
    "**SPLITTING THE DATASET INTO TRAINING SET AND TEST SET**"
   ]
  },
  {
   "cell_type": "code",
   "execution_count": 37,
   "metadata": {},
   "outputs": [],
   "source": [
    "\n",
    "from sklearn.model_selection import train_test_split\n",
    "X_train,X_test,y_train,y_test=train_test_split(X,Y,test_size=0.3,random_state=42)"
   ]
  },
  {
   "cell_type": "markdown",
   "metadata": {},
   "source": [
    "**SUPPORT VECTOR CLASSIFIER MODEL**"
   ]
  },
  {
   "cell_type": "code",
   "execution_count": 38,
   "metadata": {},
   "outputs": [],
   "source": [
    "from sklearn.svm import SVC\n",
    "\n",
    "svm_clf=SVC(kernel=\"poly\",degree=6,coef0=5,gamma=0.1)\n",
    "svm_clf=svm_clf.fit(X_train,y_train)\n",
    "y_pred=svm_clf.predict(X_test)"
   ]
  },
  {
   "cell_type": "markdown",
   "metadata": {},
   "source": [
    "**CALCULATING DIFFERENT METRICS**"
   ]
  },
  {
   "cell_type": "code",
   "execution_count": 39,
   "metadata": {},
   "outputs": [
    {
     "name": "stdout",
     "output_type": "stream",
     "text": [
      "CONFUSION MATRIX\n",
      "[[470  20   6]\n",
      " [ 29  62  10]\n",
      " [  8   5  28]]\n",
      "F1-score: 0.8753514883881671\n",
      "Accuracy-score: 0.877742946708464\n",
      "Precision-score: 0.8744054575648664\n",
      "Recall-score: 0.877742946708464\n"
     ]
    }
   ],
   "source": [
    "from sklearn.metrics import accuracy_score, precision_score, f1_score, recall_score, confusion_matrix\n",
    "print(\"CONFUSION MATRIX\")\n",
    "print(confusion_matrix(y_test,y_pred))\n",
    "print(\"F1-score:\",f1_score(y_test,y_pred,average='weighted'))\n",
    "print(\"Accuracy-score:\",accuracy_score(y_test,y_pred))\n",
    "print(\"Precision-score:\",precision_score(y_test,y_pred,average='weighted'))\n",
    "print(\"Recall-score:\",recall_score(y_test,y_pred,average=\"weighted\"))"
   ]
  },
  {
   "cell_type": "markdown",
   "metadata": {},
   "source": [
    "**SAVING THE SVM MODEL FOR FUTURE PURPOSES**"
   ]
  },
  {
   "cell_type": "code",
   "execution_count": 40,
   "metadata": {},
   "outputs": [
    {
     "data": {
      "text/plain": [
       "['./models/svc-model']"
      ]
     },
     "execution_count": 40,
     "metadata": {},
     "output_type": "execute_result"
    }
   ],
   "source": [
    "import joblib\n",
    "joblib.dump(svm_clf, './models/svc-model')\n",
    "#model=joblib.load('./models/svc-model') for loading a model"
   ]
  },
  {
   "cell_type": "markdown",
   "metadata": {},
   "source": [
    "**DECISION TREE CLASSIFIER**"
   ]
  },
  {
   "cell_type": "code",
   "execution_count": 41,
   "metadata": {},
   "outputs": [],
   "source": [
    "from sklearn.tree import DecisionTreeClassifier\n",
    "tree_clf=DecisionTreeClassifier(min_samples_split=6, min_samples_leaf=4, max_depth=6, )\n",
    "tree_clf=tree_clf.fit(X_train,y_train)\n",
    "y_pred=tree_clf.predict(X_test)\n"
   ]
  },
  {
   "cell_type": "markdown",
   "metadata": {},
   "source": [
    "**PRINTING THE METRICS OF DTC**"
   ]
  },
  {
   "cell_type": "code",
   "execution_count": 42,
   "metadata": {},
   "outputs": [
    {
     "name": "stdout",
     "output_type": "stream",
     "text": [
      "Accuracy-score: 0.8683385579937304\n",
      "Recall-score: 0.8683385579937304\n",
      "Precision-score: 0.8603398399877494\n"
     ]
    }
   ],
   "source": [
    "print(\"Accuracy-score:\",accuracy_score(y_test,y_pred))\n",
    "print(\"Recall-score:\",recall_score(y_test,y_pred,average=\"weighted\"))\n",
    "print(\"Precision-score:\",precision_score(y_test,y_pred,average='weighted'))"
   ]
  },
  {
   "cell_type": "code",
   "execution_count": 49,
   "metadata": {},
   "outputs": [
    {
     "name": "stdout",
     "output_type": "stream",
     "text": [
      "(2126, 1)\n"
     ]
    }
   ],
   "source": [
    "# from sklearn.tree import export_graphviz\n",
    "# g=export_graphviz(\n",
    "# tree_clf, out_file=\"tree.dot\",\n",
    "# feature_names=['LBE', 'LB', 'AC', 'FM', 'UC', 'DL',\n",
    "#        'DS', 'DP', 'DR'],\n",
    "# class_names=[\"NSP\"],\n",
    "# rounded=True,\n",
    "# filled=True)\n",
    "# graph = graphviz.Source(g)\n",
    "# graph.render(\"decision_tree\", format=\"png\")\n",
    "# from subprocess import check_call\n",
    "# check_call(['dot','-Tpng','tree.dot','-o','tree.png'])\n",
    "print(Y.shape)\n",
    "\n"
   ]
  },
  {
   "cell_type": "code",
   "execution_count": null,
   "metadata": {},
   "outputs": [],
   "source": []
  }
 ],
 "metadata": {
  "kernelspec": {
   "display_name": "Python 3",
   "language": "python",
   "name": "python3"
  },
  "language_info": {
   "codemirror_mode": {
    "name": "ipython",
    "version": 3
   },
   "file_extension": ".py",
   "mimetype": "text/x-python",
   "name": "python",
   "nbconvert_exporter": "python",
   "pygments_lexer": "ipython3",
   "version": "3.11.1"
  },
  "orig_nbformat": 4
 },
 "nbformat": 4,
 "nbformat_minor": 2
}
